{
  "cells": [
    {
      "cell_type": "markdown",
      "metadata": {},
      "source": [
        "# Демонстрация вызова API\n",
        "\n",
        "Ссылка на endpoint: http://localhost:8000/predict\n",
        "\n",
        "Ниже пример запроса из Python.\n"
      ]
    },
    {
      "cell_type": "code",
      "execution_count": null,
      "metadata": {},
      "outputs": [],
      "source": [
        "import requests\n",
        "\n",
        "url = \"http://localhost:8000/predict\"\n",
        "payload = {\n",
        "    \"name\": \"Автоматический выключатель\",\n",
        "    \"manufacturer\": \"EKF\",\n",
        "    \"article\": \"A1234\"\n",
        "}\n",
        "\n",
        "r = requests.post(url, json=payload, timeout=30)\n",
        "print(r.status_code)\n",
        "print(r.json())\n"
      ]
    }
  ],
  "metadata": {
    "language_info": {
      "name": "python"
    }
  },
  "nbformat": 4,
  "nbformat_minor": 2
}
